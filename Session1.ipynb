{
 "cells": [
  {
   "cell_type": "code",
   "execution_count": 12,
   "id": "ebdbcc3e",
   "metadata": {},
   "outputs": [
    {
     "name": "stdout",
     "output_type": "stream",
     "text": [
      "Hello World\n",
      "<class 'str'>\n",
      " \n"
     ]
    }
   ],
   "source": [
    "#type strings\n",
    "print(\"Hello World\") #syntax basic menampilkan ke layar\n",
    "print(type(\"Hello World\")) #syntax melihat type variable\n",
    "\n",
    "#dalam string boleh diisi kosong contohnya kaya gini\n",
    "print (\" \")"
   ]
  },
  {
   "cell_type": "code",
   "execution_count": 5,
   "id": "27dc673d",
   "metadata": {},
   "outputs": [
    {
     "name": "stdout",
     "output_type": "stream",
     "text": [
      "2002\n",
      "<class 'int'>\n"
     ]
    }
   ],
   "source": [
    "#type integer\n",
    "print (2001+1) #syntax basic aritmatika\n",
    "print(type(2001)) "
   ]
  },
  {
   "cell_type": "code",
   "execution_count": 13,
   "id": "e06e08e2",
   "metadata": {},
   "outputs": [
    {
     "name": "stdout",
     "output_type": "stream",
     "text": [
      "5.38\n",
      "<class 'float'>\n",
      "5.0\n",
      "0.38\n",
      "30000.0\n",
      "0.0052\n"
     ]
    }
   ],
   "source": [
    "#type decimal (float)\n",
    "print(5.38)\n",
    "print(type(5.38))\n",
    "\n",
    "print(5.)\n",
    "\n",
    "print(.38)\n",
    "\n",
    "print(.3E5)\n",
    "\n",
    "print(5.2E-3)"
   ]
  },
  {
   "cell_type": "code",
   "execution_count": 15,
   "id": "e8fe780b",
   "metadata": {},
   "outputs": [
    {
     "name": "stdout",
     "output_type": "stream",
     "text": [
      "<class 'bool'>\n",
      "<class 'bool'>\n"
     ]
    }
   ],
   "source": [
    "#type boolean (Truthiness)\n",
    "print (type(True))\n",
    "print (type(False))"
   ]
  },
  {
   "cell_type": "code",
   "execution_count": 25,
   "id": "961d135b",
   "metadata": {},
   "outputs": [
    {
     "name": "stdout",
     "output_type": "stream",
     "text": [
      "150\n",
      "150 150\n",
      "300 300 300\n"
     ]
    }
   ],
   "source": [
    "#menetapkan nilai variable\n",
    "a = 150\n",
    "print (a)\n",
    "print (a,a)\n",
    "\n",
    "#jika kamu suatu saat merubah nilai variable, secara otomatis output akan menghasilkan nilai variable yang baru.\n",
    "#python 3 bisa menetapkan nilai yang sama pada variable yang berbeda , contohnya :\n",
    "\n",
    "b = c = d = 300\n",
    "print(b,c,d)"
   ]
  },
  {
   "cell_type": "code",
   "execution_count": 28,
   "id": "70d1379a",
   "metadata": {},
   "outputs": [
    {
     "name": "stdout",
     "output_type": "stream",
     "text": [
      "250\n",
      "Dua ratus lima puluh\n"
     ]
    }
   ],
   "source": [
    "#type dari variable bisa berubah seiring dengan value dari variable terssebut\n",
    "example = 250\n",
    "print (example)\n",
    "\n",
    "example = \"Dua ratus lima puluh\"\n",
    "print (example)"
   ]
  },
  {
   "cell_type": "code",
   "execution_count": 41,
   "id": "fbdf4b0b",
   "metadata": {},
   "outputs": [
    {
     "name": "stdout",
     "output_type": "stream",
     "text": [
      "Rayhan Prayogo 20 False\n",
      "1 dua 3 4.0 5 enam 7.0 8\n"
     ]
    }
   ],
   "source": [
    "#variable nama dimana variable bebas menggunakan huruf besar/kecil, dan perbedaan itu mengasilkan\n",
    "#variable yang berbeda.\n",
    "\n",
    "name = \"Rayhan Prayogo\"\n",
    "Umur = 20\n",
    "has_laptop = False\n",
    "print (name,Umur,has_laptop)\n",
    "\n",
    "#nama variable tidak boleh diawali dengan angka, akan muncul error invalid token.\n",
    "#berikut contoh case huruf kecil dan besar menjadi berbeda variable.\n",
    "\n",
    "age = 1\n",
    "Age = \"dua\"\n",
    "aGe = 3\n",
    "AGE = (4.0)\n",
    "a_g_e = 5\n",
    "_age = \"enam\"\n",
    "age_ = (7.0)\n",
    "_AGE_ = 8\n",
    "\n",
    "print(age, Age, aGe, AGE, a_g_e, _age, age_, _AGE_)"
   ]
  },
  {
   "cell_type": "code",
   "execution_count": 40,
   "id": "413e41a5",
   "metadata": {},
   "outputs": [
    {
     "name": "stdout",
     "output_type": "stream",
     "text": [
      "Metode yang paling umum digunakan untuk membuat nama variabel multi-kata adalah tiga contoh dibawah ini:\n",
      "\n",
      "Camel Case: Second and subsequent words are capitalized, to make word boundaries easier to see. Presumably, it struck someone at some point that the capital letters strewn throughout the variable name vaguely resemble camel humps.\n",
      "Example: numberOfCollegeGraduates\n",
      "\n",
      "Pascal Case: Identical to Camel Case, except the first word is also capitalized.\n",
      "Example: NumberOfCollegeGraduates\n",
      "\n",
      "Snake Case: Words are separated by underscores.\n",
      "Example: number_of_college_graduates\n",
      "\n",
      "Gunakan salah satu dari ketiganya yang paling menarik secara visual bagi kalian. Pilih satu dan gunakan secara konsisten\n"
     ]
    }
   ],
   "source": [
    "print (\"Metode yang paling umum digunakan untuk membuat nama variabel multi-kata adalah tiga contoh dibawah ini:\")\n",
    "print (\"\")\n",
    "print (\"Camel Case: Second and subsequent words are capitalized, to make word boundaries easier to see. Presumably, it struck someone at some point that the capital letters strewn throughout the variable name vaguely resemble camel humps.\")\n",
    "print (\"Example: numberOfCollegeGraduates\")\n",
    "print (\"\")\n",
    "print (\"Pascal Case: Identical to Camel Case, except the first word is also capitalized.\")\n",
    "print (\"Example: NumberOfCollegeGraduates\")\n",
    "print (\"\")\n",
    "print (\"Snake Case: Words are separated by underscores.\")\n",
    "print (\"Example: number_of_college_graduates\")\n",
    "print (\"\")\n",
    "print (\"Gunakan salah satu dari ketiganya yang paling menarik secara visual bagi kalian. Pilih satu dan gunakan secara konsisten\")"
   ]
  },
  {
   "cell_type": "code",
   "execution_count": 52,
   "id": "13f2dc59",
   "metadata": {},
   "outputs": [
    {
     "name": "stdout",
     "output_type": "stream",
     "text": [
      "90\n",
      "85\n"
     ]
    }
   ],
   "source": [
    "#operator & experiences\n",
    "\n",
    "a = c = 40\n",
    "b = d = 50\n",
    "print (a + b)\n",
    "print (c + d - 5)"
   ]
  },
  {
   "cell_type": "code",
   "execution_count": 55,
   "id": "25c14d9c",
   "metadata": {},
   "outputs": [
    {
     "name": "stdout",
     "output_type": "stream",
     "text": [
      "10\n",
      "6\n",
      "16\n",
      "4.0\n",
      "0\n",
      "64\n"
     ]
    }
   ],
   "source": [
    "#operator aritmatika\n",
    "a = 8\n",
    "b = 2\n",
    "\n",
    "print(a + b)\n",
    "print(a - b)\n",
    "print(a * b)\n",
    "print(a / b)\n",
    "print(a % b)\n",
    "print(a ** b)"
   ]
  },
  {
   "cell_type": "code",
   "execution_count": 57,
   "id": "f8476203",
   "metadata": {},
   "outputs": [
    {
     "name": "stdout",
     "output_type": "stream",
     "text": [
      "False\n",
      "True\n",
      "True\n",
      "False\n",
      "True\n",
      "True\n",
      "True\n"
     ]
    }
   ],
   "source": [
    "#operator compare / pembanding\n",
    "\n",
    "a = 10\n",
    "b = 20\n",
    "print(a == b)\n",
    "print(a != b)\n",
    "print(a <= b)\n",
    "print(a >= b)\n",
    "\n",
    "\n",
    "a = 30\n",
    "b = 30\n",
    "print(a == b)\n",
    "print(a <= b)\n",
    "print(a >= b)"
   ]
  },
  {
   "cell_type": "code",
   "execution_count": 64,
   "id": "1560522c",
   "metadata": {},
   "outputs": [
    {
     "name": "stdout",
     "output_type": "stream",
     "text": [
      "rayhan\n",
      "rayhanprayogo\n",
      "Hacktiv8 Batch 058\n"
     ]
    }
   ],
   "source": [
    "# + Operators\n",
    "s = 'ray'\n",
    "t = 'han'\n",
    "u = 'prayogo'\n",
    "\n",
    "print(s + t)\n",
    "print(s + t + u)\n",
    "print('Hacktiv8 ' + 'Batch 058')"
   ]
  },
  {
   "cell_type": "code",
   "execution_count": 66,
   "id": "913da9b5",
   "metadata": {},
   "outputs": [
    {
     "name": "stdout",
     "output_type": "stream",
     "text": [
      "False\n",
      "True\n"
     ]
    }
   ],
   "source": [
    "# * Operators\n",
    "a = 'ray'\n",
    "a * 3\n",
    "print (a in 'pembayaran pesta')\n",
    "print (a in 'perayaan pesta')"
   ]
  },
  {
   "cell_type": "code",
   "execution_count": 68,
   "id": "215a088c",
   "metadata": {},
   "outputs": [
    {
     "name": "stdout",
     "output_type": "stream",
     "text": [
      "Hacktiv8\n",
      "hacktiv8\n",
      "hACKtiv8\n",
      "Hacktiv8\n",
      "HACKTIV8\n"
     ]
    }
   ],
   "source": [
    "# Case Conversion\n",
    "s = 'HackTIV8'\n",
    "\n",
    "# Capitalize\n",
    "print(s.capitalize())\n",
    "\n",
    "# Lower\n",
    "print(s.lower())\n",
    "\n",
    "# Swapcase\n",
    "print(s.swapcase())\n",
    "\n",
    "# Title\n",
    "print(s.title())\n",
    "\n",
    "# Uppercase\n",
    "print(s.upper())"
   ]
  },
  {
   "cell_type": "code",
   "execution_count": 71,
   "id": "cddc0b9d",
   "metadata": {},
   "outputs": [
    {
     "name": "stdout",
     "output_type": "stream",
     "text": [
      "['rayhan', 'prayogo', 'is', 'humble']\n"
     ]
    },
    {
     "data": {
      "text/plain": [
       "False"
      ]
     },
     "execution_count": 71,
     "metadata": {},
     "output_type": "execute_result"
    }
   ],
   "source": [
    "#list (daftar) dalam python, 1. umumnya menggunakan symbol [], 2. beragam tipe data, 3. bisa diakses lewat index,\n",
    "#4. memilih porsi index ditampilkan  ekpresi a[m:n]\n",
    "varchar = ['rayhan','prayogo','is','humble']\n",
    "variable = ['rayhan','prayogo','as','human']\n",
    "print (var)\n",
    "varchar == variable"
   ]
  },
  {
   "cell_type": "code",
   "execution_count": 74,
   "id": "6da6031e",
   "metadata": {},
   "outputs": [
    {
     "name": "stdout",
     "output_type": "stream",
     "text": [
      "[21.42, 'foobar', 3, 4, 'bark', False, 3.14159]\n"
     ]
    }
   ],
   "source": [
    "#2. beragam tipe data\n",
    "a = [21.42, 'foobar', 3, 4, 'bark', False, 3.14159]\n",
    "\n",
    "print(a)"
   ]
  },
  {
   "cell_type": "code",
   "execution_count": 77,
   "id": "8ada1db3",
   "metadata": {},
   "outputs": [
    {
     "name": "stdout",
     "output_type": "stream",
     "text": [
      "pisang\n",
      "jahe\n"
     ]
    }
   ],
   "source": [
    "#3. bisa diakses lewat index\n",
    "a = ['pisang', 'nanas', 'madu', 'jahe', 'jeruk', 'lengkuas']\n",
    "print (a[0])\n",
    "print (a[-3])"
   ]
  },
  {
   "cell_type": "code",
   "execution_count": 80,
   "id": "9ee401df",
   "metadata": {},
   "outputs": [
    {
     "name": "stdout",
     "output_type": "stream",
     "text": [
      "['pisang', 'nanas', 'madu', 'jahe', 'jeruk', 'lengkuas']\n",
      "['pisang', 'nanas', 'madu', 'jahe', 'jeruk', 'lengkuas', 'grape', 'jelly']\n",
      "['pisang', 'nanas', 'madu', 'jahe', 'jeruk', 'lengkuas', 'pisang', 'nanas', 'madu', 'jahe', 'jeruk', 'lengkuas']\n",
      "['pisang', 'nanas', 'madu', 'jahe', 'jeruk', 'lengkuas']\n",
      "6\n",
      "jahe\n",
      "pisang\n"
     ]
    }
   ],
   "source": [
    "#4. memilih porsi index ditampilkan, ekpresi a[m:n]\n",
    "\n",
    "a = ['pisang', 'nanas', 'madu', 'jahe', 'jeruk', 'lengkuas']\n",
    "\n",
    "a[2:5]\n",
    "\n",
    "# The concatenation (+) and replication (*) operators:\n",
    "\n",
    "print(a)\n",
    "\n",
    "print(a + ['grape','jelly'])\n",
    "print(a * 2)\n",
    "\n",
    "# len(), min(), max()\n",
    "print(a)\n",
    "\n",
    "print(len(a))\n",
    "print(min(a))\n",
    "print(max(a))"
   ]
  },
  {
   "cell_type": "code",
   "execution_count": 82,
   "id": "d3926cd7",
   "metadata": {},
   "outputs": [
    {
     "name": "stdout",
     "output_type": "stream",
     "text": [
      "['pisang', 'nanas', 'madu', 'jahe', 'jeruk', 'lengkuas']\n",
      "['pisang', 'nanas', 10, 'jahe', 'jeruk', 20]\n",
      "['pisang', 'nanas', 10, 'jeruk', 20]\n"
     ]
    }
   ],
   "source": [
    "#Satu nilai dalam list dapat diganti dengan pengindeksan dan assignment sederhana\n",
    "a = ['pisang', 'nanas', 'madu', 'jahe', 'jeruk', 'lengkuas']\n",
    "\n",
    "print(a)\n",
    "\n",
    "a[2] = 10\n",
    "a[-1] = 20\n",
    "\n",
    "print(a)\n",
    "\n",
    "# A list item can be deleted with the del command:\n",
    "del a[3]\n",
    "print(a)\n"
   ]
  },
  {
   "cell_type": "code",
   "execution_count": 87,
   "id": "077c1824",
   "metadata": {},
   "outputs": [
    {
     "name": "stdout",
     "output_type": "stream",
     "text": [
      "['nanas', 'madu', 'jahe']\n",
      "['pisang', 1.1, 2.2, 3.3, 4.4, 5.5, 'jeruk', 'lengkuas']\n"
     ]
    }
   ],
   "source": [
    "#jika kalian ingin mengubah beberapa elemen yang bersebelahan dalam list sekaligus\n",
    "a = ['pisang', 'nanas', 'madu', 'jahe', 'jeruk', 'lengkuas']\n",
    "\n",
    "print(a[1:4])\n",
    "\n",
    "a[1:4] = [1.1, 2.2, 3.3, 4.4, 5.5]\n",
    "\n",
    "print(a)"
   ]
  },
  {
   "cell_type": "code",
   "execution_count": 88,
   "id": "21a86530",
   "metadata": {},
   "outputs": [
    {
     "name": "stdout",
     "output_type": "stream",
     "text": [
      "['pisang', 'nanas', 'madu', 'jahe', 'jeruk', 'lengkuas']\n",
      "pisang\n",
      "jahe\n"
     ]
    },
    {
     "data": {
      "text/plain": [
       "'pisang'"
      ]
     },
     "execution_count": 88,
     "metadata": {},
     "output_type": "execute_result"
    }
   ],
   "source": [
    "t = ['pisang', 'nanas', 'madu', 'jahe', 'jeruk', 'lengkuas']\n",
    "print(t)\n",
    "print (t[0])\n",
    "print (t[-3])\n",
    "\n",
    "#packing and unpacking\n",
    "(t1,t2,t3,t4) = ('pisang','nanas', 'madu', 'jahe')\n",
    "t1"
   ]
  },
  {
   "cell_type": "code",
   "execution_count": 91,
   "id": "4c100f95",
   "metadata": {},
   "outputs": [
    {
     "name": "stdout",
     "output_type": "stream",
     "text": [
      "Red Aliens\n",
      "Brewers\n"
     ]
    }
   ],
   "source": [
    "PUBGM_team = {\n",
    "    'BIGETRON': 'Red Aliens',\n",
    "    'AEROWOLF': 'Limax',\n",
    "    'EVOS': 'Twins',\n",
    "    'ALTEREGO': 'Brewers',\n",
    "    'SEATTLE': 'Mariners',\n",
    "}\n",
    "\n",
    "print (PUBGM_team['BIGETRON'])\n",
    "print (PUBGM_team['ALTEREGO'])\n",
    "\n",
    "#Adding an entry to an existing dictionary is simply a matter of assigning a new key and value:\n"
   ]
  },
  {
   "cell_type": "code",
   "execution_count": null,
   "id": "821bc9da",
   "metadata": {},
   "outputs": [],
   "source": []
  }
 ],
 "metadata": {
  "kernelspec": {
   "display_name": "Python 3",
   "language": "python",
   "name": "python3"
  },
  "language_info": {
   "codemirror_mode": {
    "name": "ipython",
    "version": 3
   },
   "file_extension": ".py",
   "mimetype": "text/x-python",
   "name": "python",
   "nbconvert_exporter": "python",
   "pygments_lexer": "ipython3",
   "version": "3.8.8"
  }
 },
 "nbformat": 4,
 "nbformat_minor": 5
}
