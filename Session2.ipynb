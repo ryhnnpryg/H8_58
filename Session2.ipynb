{
 "cells": [
  {
   "cell_type": "code",
   "execution_count": 2,
   "id": "321a90ab",
   "metadata": {},
   "outputs": [
    {
     "name": "stdout",
     "output_type": "stream",
     "text": [
      "Equals: a == b\n",
      "Not Equals: a != b\n",
      "Less than: a < b\n",
      "Less than or equal to: a <= b\n",
      "Greater than: a > b\n",
      "Greater than or equal to: a >= b\n",
      "These conditions can be used in several ways, most commonly in if statementsand loops\n"
     ]
    }
   ],
   "source": [
    "#kondisi logical/logical conditions\n",
    "\n",
    "print (\"Equals: a == b\")\n",
    "print (\"Not Equals: a != b\")\n",
    "print (\"Less than: a < b\")\n",
    "print (\"Less than or equal to: a <= b\")\n",
    "print (\"Greater than: a > b\")\n",
    "print (\"Greater than or equal to: a >= b\")\n",
    "print (\"These conditions can be used in several ways, most commonly in if statementsand loops\")"
   ]
  },
  {
   "cell_type": "code",
   "execution_count": 15,
   "id": "6cfbe564",
   "metadata": {},
   "outputs": [
    {
     "name": "stdout",
     "output_type": "stream",
     "text": [
      "Dalam program Python, if statement adalah bagaimana kalian melakukan decision-making. If Statement memungkinkan eksekusi kondisional dari pernyataan atau kelompok pernyataan berdasarkan nilai ekspresi.\n",
      " \n",
      "sebuah if statement ditulis dengan menggunakan keyword *if*\n",
      " \n",
      "NOTES : Jika <expr> benar (mengevaluasi ke nilai truthy), maka <statement> akan dieksekusi. Jika <expr> salah, maka <statement> dilewati dan tidak dieksekusi.\n"
     ]
    }
   ],
   "source": [
    "#if statement\n",
    "print (\"Dalam program Python, if statement adalah bagaimana kalian melakukan decision-making. If Statement memungkinkan eksekusi kondisional dari pernyataan atau kelompok pernyataan berdasarkan nilai ekspresi.\")\n",
    "print (\" \")\n",
    "print (\"sebuah if statement ditulis dengan menggunakan keyword *if*\")\n",
    "print (\" \")\n",
    "print (\"NOTES : Jika <expr> benar (mengevaluasi ke nilai truthy), maka <statement> akan dieksekusi. Jika <expr> salah, maka <statement> dilewati dan tidak dieksekusi.\")"
   ]
  },
  {
   "cell_type": "code",
   "execution_count": 16,
   "id": "bd27f7f4",
   "metadata": {},
   "outputs": [
    {
     "name": "stdout",
     "output_type": "stream",
     "text": [
      "x lebih kecil dari y\n",
      "variable y\n",
      "sun ada dalam kata sunday\n",
      "pisang ada dalam index\n"
     ]
    }
   ],
   "source": [
    "x = 0\n",
    "y = 5\n",
    "\n",
    "if x < y:                            # Truthy\n",
    "    print('x lebih kecil dari y')\n",
    "\n",
    "if y < x:                            # Falsy\n",
    "    print('y lebih kecil dari y ')\n",
    "\n",
    "if x:                                # Falsy\n",
    "    print('variable x')\n",
    "\n",
    "if y:                                # Truthy\n",
    "    print('variable y')\n",
    "\n",
    "if 'sun' in 'sunday':                # Truthy\n",
    "    print('sun ada dalam kata sunday')\n",
    "\n",
    "if 'pisang' in ['pisang', 'susu', 'madu']:  # Falsy\n",
    "    print('pisang ada dalam index')"
   ]
  },
  {
   "cell_type": "code",
   "execution_count": 18,
   "id": "0dd779e1",
   "metadata": {},
   "outputs": [
    {
     "name": "stdout",
     "output_type": "stream",
     "text": [
      "Tetapi katakanlah kalian ingin mengevaluasi suatu kondisi dan kemudian melakukan lebih dari satu hal jika itu benar:\n"
     ]
    }
   ],
   "source": [
    "#Grouping Statements: Indentation and Blocks\n",
    "print (\"Tetapi katakanlah kalian ingin mengevaluasi suatu kondisi dan kemudian melakukan lebih dari satu hal jika itu benar:\")\n",
    "\n",
    "#If the weather is nice, then I will:\n",
    "    #Mow the lawn\n",
    "    #Weed the garden\n",
    "    #Take the dog for a walk\n"
   ]
  },
  {
   "cell_type": "code",
   "execution_count": 1,
   "id": "a58934a4",
   "metadata": {},
   "outputs": [
    {
     "name": "stdout",
     "output_type": "stream",
     "text": [
      "senin masuk dalam daftar\n",
      "pernyataanmu salah\n",
      "pernyataanmu benar\n",
      "luaran dari akhir kondisi\n",
      "sesudah akhir kondisi\n"
     ]
    }
   ],
   "source": [
    "#Does line execute                                  Yes No\n",
    "if 'senin' in ['senin', 'selasa', 'rabu']:        #  x\n",
    "    print('senin masuk dalam daftar')             #  x\n",
    "\n",
    "    if 10 > 20:                                   #  x\n",
    "        print('pernyataan benar')                 #      x\n",
    "\n",
    "    print('pernyataanmu salah')                   #  x\n",
    "\n",
    "    if 10 < 20:                                   #  x\n",
    "        print('pernyataanmu benar')               #  x\n",
    "\n",
    "    print('luaran dari akhir kondisi')            #  x\n",
    "print('sesudah akhir kondisi')                    #  x"
   ]
  },
  {
   "cell_type": "code",
   "execution_count": 5,
   "id": "ded16dba",
   "metadata": {},
   "outputs": [
    {
     "name": "stdout",
     "output_type": "stream",
     "text": [
      "(perintah kedua)\n",
      "x is large\n"
     ]
    }
   ],
   "source": [
    "x = 60\n",
    "\n",
    "if x < 50:\n",
    "    print('(perintah pertama)')\n",
    "    print('x is small')\n",
    "else:\n",
    "    print('(perintah kedua)')\n",
    "    print('x is large')"
   ]
  },
  {
   "cell_type": "code",
   "execution_count": 51,
   "id": "ca61df6c",
   "metadata": {},
   "outputs": [
    {
     "name": "stdout",
     "output_type": "stream",
     "text": [
      "beli buku\n"
     ]
    }
   ],
   "source": [
    "# else dan elif untuk mengeksekusi pernyataan tunggal atau blok dari beberapa statement. \n",
    "\n",
    "hargaBuku = 5000\n",
    "hargaMajalah = 15000\n",
    "uang = 20000\n",
    "\n",
    "if uang > hargaBuku:\n",
    "    print(\"beli buku\")\n",
    "elif uang > hargaMajalah:\n",
    "    print(\"beli majalah\")\n",
    "else:\n",
    "    print(\"uang tidak cukup\")"
   ]
  },
  {
   "cell_type": "code",
   "execution_count": 54,
   "id": "7efcad1d",
   "metadata": {},
   "outputs": [
    {
     "name": "stdout",
     "output_type": "stream",
     "text": [
      "Please input your nameRayhan\n",
      "Hello Rayhan\n"
     ]
    }
   ],
   "source": [
    "#Jumlah klausa elif dapat ditentukan berapapun.\n",
    "#Klausa else bersifat opsional.\n",
    "#Jika ada, hanya boleh ada satu, dan harus ditentukan terakhir:\n",
    "\n",
    "name = str(input('Please input your name'));\n",
    "if name == 'Rayhan':\n",
    "    print('Hello Rayhan')\n",
    "elif name == 'Xander':\n",
    "    print('Hello Xander')\n",
    "elif name == 'Hacktiv8':\n",
    "    print('Hello Hacktiv8')\n",
    "elif name == 'Arnold':\n",
    "    print('Hello Arnold')\n",
    "else:\n",
    "    print(\"I don't know who you are!\")"
   ]
  },
  {
   "cell_type": "code",
   "execution_count": 48,
   "id": "8f839d03",
   "metadata": {},
   "outputs": [
    {
     "name": "stdout",
     "output_type": "stream",
     "text": [
      "huruf R ada dalam nama Rayhan\n"
     ]
    }
   ],
   "source": [
    "#Pernyataan if dengan klausa elif menggunakan short-circuit evaluation, serupa dengan apa yang kalian lihat dengan operator and dan or\n",
    "# Setelah salah satu ekspresi ditemukan benar dan bloknya dijalankan, tidak ada ekspresi yang tersisa yang diuji.\n",
    "if 'R' in 'Rayhan':\n",
    "    print('huruf R ada dalam nama Rayhan') #---> ini ditampilkan kelayar\n",
    "elif 1/0:\n",
    "    print(\"This won't happen\")#---> ini tidak ditampilkan (skip)\n",
    "elif var:\n",
    "    print(\"This won't either\")#---> ini tidak ditampilkan (skip)\n",
    "else:\n",
    "    print(\"please restart your computer, thanks\")"
   ]
  },
  {
   "cell_type": "code",
   "execution_count": 63,
   "id": "08b76a06",
   "metadata": {},
   "outputs": [
    {
     "name": "stdout",
     "output_type": "stream",
     "text": [
      "1\n",
      "2\n",
      "3\n"
     ]
    }
   ],
   "source": [
    "#one-line if statement\n",
    "#python memungkinkan untuk melakukan statement dalam satu line.\n",
    "if 'pray' in 'rayhan prayogo': print('1'); print('2'); print('3')\n",
    "else: print('tidak ditemukan')"
   ]
  },
  {
   "cell_type": "code",
   "execution_count": 67,
   "id": "b729514f",
   "metadata": {},
   "outputs": [
    {
     "name": "stdout",
     "output_type": "stream",
     "text": [
      "Check line up your team:Belgia\n",
      "Line up tidak ditemukan\n",
      "atau mungkin belum terjadwal\n"
     ]
    }
   ],
   "source": [
    "#one-line multiple statement.\n",
    "#Meskipun semua ini berfungsi, dan interpreter mengizinkannya, umumnya tidak disarankan karena menyebabkan readability yang buruk, terutama untuk pernyataan if yang kompleks.\n",
    "#PEP 8 secara khusus merekomendasikan untuk tidak melakukannya.\n",
    "x = str(input('Check line up your team:'))\n",
    "\n",
    "if x == 'Portugal': print('3.Pepe'); print('7.Ronaldo'); print('10.Bruno')\n",
    "elif x == 'Argentina': print('7.Aguero'); print('10.Messi');print('11.Martinez')\n",
    "else: print('Line up tidak ditemukan'); print('atau mungkin belum terjadwal')"
   ]
  },
  {
   "cell_type": "code",
   "execution_count": 78,
   "id": "3e32c6a6",
   "metadata": {},
   "outputs": [
    {
     "name": "stdout",
     "output_type": "stream",
     "text": [
      "example 1\n",
      "Let's go to the library\n",
      "example 2\n",
      "teen\n",
      "example 3\n"
     ]
    },
    {
     "data": {
      "text/plain": [
       "'no'"
      ]
     },
     "execution_count": 78,
     "metadata": {},
     "output_type": "execute_result"
    }
   ],
   "source": [
    "#conditional expressions\n",
    "#bertindak lebih seperti operator yang mendefinisikan \n",
    "#CONTOH : <expr1> if <conditional_expr> else <expr2>\n",
    "#penjelasan :  <conditional_expr> dievaluasi terlebih dahulu. Jika benar, ekspresi mengevaluasi ke <expr1>.\n",
    "#Jika salah, ekspresi mengevaluasi ke <expr2>.\n",
    "\n",
    "print ('example 1')\n",
    "raining = True\n",
    "print(\"Let's go to the\", 'beach' if not raining else 'library')\n",
    "\n",
    "print ('example 2')\n",
    "age = 15\n",
    "s = 'teen' if age < 21 else 'adult'\n",
    "print (s)\n",
    "\n",
    "print('example 3')\n",
    "'yes' if ('qux' in ['foo', 'bar', 'baz']) else 'no'\n"
   ]
  },
  {
   "cell_type": "code",
   "execution_count": 83,
   "id": "89d7dc7f",
   "metadata": {},
   "outputs": [
    {
     "name": "stdout",
     "output_type": "stream",
     "text": [
      "4\n",
      "3\n",
      "2\n",
      "1\n",
      "0\n",
      "\n",
      "1\n",
      "2\n",
      "3\n",
      "4\n",
      "5\n",
      "\n"
     ]
    }
   ],
   "source": [
    "#python while loops\n",
    "\n",
    "n = 5\n",
    "while n > 0:\n",
    "    n -= 1\n",
    "    print(n)\n",
    "print ('')\n",
    "i = 1\n",
    "while i < 6:\n",
    "  print(i)\n",
    "  i += 1\n",
    "print('')\n",
    "\n",
    "#Inilah yang terjadi dalam contoh diatas:\n",
    "#n adalah 5. Ekspresi dalam while header pada baris 2 adalah n > 0, which is benar, sehingga badan perulangan dieksekusi. Di dalam badan loop pada baris 3, n dikurangi 1 menjadi 4, dan kemudian dicetak ke layar.\n",
    "#Ketika badan loop telah selesai, eksekusi program kembali ke atas loop pada baris 2, dan ekspresi dievaluasi lagi. ekspresinya masih benar, jadi badan dieksekusi lagi, dan 3 dicetak.\n",
    "#Looping berlanjut sampai n menjadi 0. Pada titik itu, ketika ekspresi diuji, dan salah, loop berhenti. Eksekusi akan dilanjutkan pada pernyataan pertama setelah badan loop, tetapi tidak ada satu pun dalam kasus ini.\n"
   ]
  },
  {
   "cell_type": "code",
   "execution_count": 91,
   "id": "c18efff9",
   "metadata": {},
   "outputs": [
    {
     "name": "stdout",
     "output_type": "stream",
     "text": [
      "example 1\n",
      "4\n",
      "3\n",
      "Loop ended.\n",
      "Ketika n menjadi 2, pernyataan break dieksekusi. Perulangan dihentikan sepenuhnya, dan eksekusi program melompat ke pernyataan print () pada baris 7.\n",
      "\n",
      "example 2\n",
      "4\n",
      "3\n",
      "1\n",
      "0\n",
      "Loop ended.\n",
      "Kali ini, ketika n adalah 2, pernyataan continue menyebabkan penghentian iterasi. Jadi, 2 tidak dicetak. Eksekusi kembali ke atas loop, kondisi dievaluasi ulang, dan masih benar. Perulangan dilanjutkan, berakhir ketika n menjadi 0, seperti sebelumnya.\n"
     ]
    }
   ],
   "source": [
    "#python break and continue statement.\n",
    "#Python break statement segera menghentikan perulangan seluruhnya. Eksekusi program dilanjutkan ke pernyataan pertama setelah badan loop.\n",
    "#Python continue statement segera menghentikan iterasi loop saat dijalankan. Eksekusi melompat ke atas loop, dan controlling expression dievaluasi ulang untuk menentukan apakah loop akan dieksekusi lagi atau dihentikan.\n",
    "\n",
    "print ('example 1')\n",
    "n = 5\n",
    "while n > 0:\n",
    "    n -= 1\n",
    "    if n == 2:\n",
    "        break # Break Statement\n",
    "    print(n)\n",
    "print('Loop ended.')\n",
    "\n",
    "print ('Ketika n menjadi 2, pernyataan break dieksekusi. Perulangan dihentikan sepenuhnya, dan eksekusi program melompat ke pernyataan print () pada baris 7.')\n",
    "print ('')\n",
    "print ('example 2')\n",
    "n = 5\n",
    "while n > 0:\n",
    "    n -= 1\n",
    "    if n == 2:\n",
    "        continue\n",
    "    print(n)\n",
    "print('Loop ended.')\n",
    "print ('Kali ini, ketika n adalah 2, pernyataan continue menyebabkan penghentian iterasi. Jadi, 2 tidak dicetak. Eksekusi kembali ke atas loop, kondisi dievaluasi ulang, dan masih benar. Perulangan dilanjutkan, berakhir ketika n menjadi 0, seperti sebelumnya.')"
   ]
  },
  {
   "cell_type": "code",
   "execution_count": 108,
   "id": "1fbacf1d",
   "metadata": {},
   "outputs": [
    {
     "name": "stdout",
     "output_type": "stream",
     "text": [
      "Male/FemaleMale\n",
      "your age is :70\n",
      "grandfather\n"
     ]
    }
   ],
   "source": [
    "#loop while dapat dimuat dalam loop while lainnya, example :\n",
    "gender = str(input('Male/Female'))\n",
    "age = int(input('your age is :'))\n",
    "             \n",
    "if age < 25:\n",
    "    if gender == 'Male':\n",
    "        print('son')\n",
    "    else:\n",
    "        print('daughter')\n",
    "elif age > 25 and age < 65:\n",
    "    if gender == 'Male':\n",
    "        print('father')\n",
    "    else:\n",
    "        print('mother')\n",
    "else:\n",
    "    if gender == 'Male':\n",
    "        print('grandfather')\n",
    "    else:\n",
    "        print('grandmother')"
   ]
  },
  {
   "cell_type": "code",
   "execution_count": 112,
   "id": "1950445c",
   "metadata": {},
   "outputs": [
    {
     "name": "stdout",
     "output_type": "stream",
     "text": [
      "foo\n",
      "> baz\n",
      "> qux\n",
      "bar\n",
      "> baz\n",
      "> qux\n"
     ]
    }
   ],
   "source": [
    "#example 2\n",
    "#Fungsi len() dalam python digunakan untuk mengetahui panjang (jumlah item atau anggota) dari objek seperti sequence (string, list, tuple, range) dan collection (dictionary, set, dan frozenset).\n",
    "#pop () adalah fungsi yang digunakan untuk menghapus elemen dalam daftar (oleh bawaan elemen terakhir), dan mengembalikan nilai dari elemen.\n",
    "\n",
    "a = ['foo', 'bar']\n",
    "\n",
    "while len(a):\n",
    "    print(a.pop(0))\n",
    "    \n",
    "    b = ['baz', 'qux']\n",
    "    \n",
    "    while len(b):\n",
    "        print('>', b.pop(0))"
   ]
  },
  {
   "cell_type": "code",
   "execution_count": 114,
   "id": "65001539",
   "metadata": {},
   "outputs": [
    {
     "name": "stdout",
     "output_type": "stream",
     "text": [
      "4\n",
      "3\n",
      "2\n",
      "1\n",
      "0\n"
     ]
    }
   ],
   "source": [
    "#one-line loops\n",
    "n = 5\n",
    "while n > 0: n -= 1; print(n)"
   ]
  },
  {
   "cell_type": "code",
   "execution_count": null,
   "id": "87403d59",
   "metadata": {},
   "outputs": [],
   "source": []
  }
 ],
 "metadata": {
  "kernelspec": {
   "display_name": "Python 3",
   "language": "python",
   "name": "python3"
  },
  "language_info": {
   "codemirror_mode": {
    "name": "ipython",
    "version": 3
   },
   "file_extension": ".py",
   "mimetype": "text/x-python",
   "name": "python",
   "nbconvert_exporter": "python",
   "pygments_lexer": "ipython3",
   "version": "3.8.8"
  }
 },
 "nbformat": 4,
 "nbformat_minor": 5
}
