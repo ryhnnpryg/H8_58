{
 "cells": [
  {
   "cell_type": "code",
   "execution_count": 26,
   "id": "0b1235cd",
   "metadata": {},
   "outputs": [
    {
     "ename": "SyntaxError",
     "evalue": "invalid syntax (<ipython-input-26-b8fe37ee67f0>, line 5)",
     "output_type": "error",
     "traceback": [
      "\u001b[1;36m  File \u001b[1;32m\"<ipython-input-26-b8fe37ee67f0>\"\u001b[1;36m, line \u001b[1;32m5\u001b[0m\n\u001b[1;33m    print angka (\"adalah bilangan genap\")\u001b[0m\n\u001b[1;37m          ^\u001b[0m\n\u001b[1;31mSyntaxError\u001b[0m\u001b[1;31m:\u001b[0m invalid syntax\n"
     ]
    }
   ],
   "source": [
    "#Nomor 1\n",
    "angka = int(input('Masukan bilangan:'))\n",
    "\n",
    "if angka % 2 == 0:\n",
    "    print angka (\"adalah bilangan genap\")\n",
    "else:\n",
    "    print angka (\"adalah bilangan ganjil\")\n"
   ]
  },
  {
   "cell_type": "code",
   "execution_count": 5,
   "id": "66dc8f0b",
   "metadata": {},
   "outputs": [
    {
     "name": "stdout",
     "output_type": "stream",
     "text": [
      "Please put your number8\n",
      "1\n",
      "2\n",
      "4\n"
     ]
    }
   ],
   "source": [
    "#Nomor 2\n",
    "x = int(input('Please put your number'))\n",
    "y = 1\n",
    "\n",
    "while y < x:\n",
    "    if (x % y == 0):\n",
    "        print(y)\n",
    "    y = y+1\n"
   ]
  },
  {
   "cell_type": "code",
   "execution_count": 16,
   "id": "eb25ed06",
   "metadata": {},
   "outputs": [
    {
     "ename": "IndentationError",
     "evalue": "unindent does not match any outer indentation level (<tokenize>, line 7)",
     "output_type": "error",
     "traceback": [
      "\u001b[1;36m  File \u001b[1;32m\"<tokenize>\"\u001b[1;36m, line \u001b[1;32m7\u001b[0m\n\u001b[1;33m    elif nilai <= 90 and hasil > 85:\u001b[0m\n\u001b[1;37m    ^\u001b[0m\n\u001b[1;31mIndentationError\u001b[0m\u001b[1;31m:\u001b[0m unindent does not match any outer indentation level\n"
     ]
    }
   ],
   "source": [
    "#Nomor 3\n",
    "nilai = int(input('Masukan Nilaimu '))\n",
    "\n",
    "kriteria = None\n",
    " if nilai >= 90:\n",
    "        kriteria = 'A+'\n",
    "    elif nilai <= 90 and hasil > 85:\n",
    "        kriteria = 'A'\n",
    "    elif nilai <= 80 and hasi > 8:\n",
    "        kriteria = 'B'\n",
    "    elif nilai <= 90 and hasil > 85:\n",
    "        kriteria = 'B+'\n",
    "    elif nilai <=70:\n",
    "        kriteria = 'C'\n",
    "    else:\n",
    "        print('Nilaimu tidak masuk kriteria, silahkan lakukan remedial.')\n",
    "        print('Nilai Ujian {} =  {}'.format(nilai, kriteria))\n"
   ]
  },
  {
   "cell_type": "code",
   "execution_count": null,
   "id": "6a611e38",
   "metadata": {},
   "outputs": [],
   "source": []
  }
 ],
 "metadata": {
  "kernelspec": {
   "display_name": "Python 3",
   "language": "python",
   "name": "python3"
  },
  "language_info": {
   "codemirror_mode": {
    "name": "ipython",
    "version": 3
   },
   "file_extension": ".py",
   "mimetype": "text/x-python",
   "name": "python",
   "nbconvert_exporter": "python",
   "pygments_lexer": "ipython3",
   "version": "3.8.8"
  }
 },
 "nbformat": 4,
 "nbformat_minor": 5
}
